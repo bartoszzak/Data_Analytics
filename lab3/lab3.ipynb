{
 "cells": [
  {
   "cell_type": "code",
   "execution_count": 2,
   "metadata": {},
   "outputs": [
    {
     "name": "stderr",
     "output_type": "stream",
     "text": [
      "/usr/local/lib/python3.9/site-packages/tqdm/auto.py:22: TqdmWarning: IProgress not found. Please update jupyter and ipywidgets. See https://ipywidgets.readthedocs.io/en/stable/user_install.html\n",
      "  from .autonotebook import tqdm as notebook_tqdm\n"
     ]
    }
   ],
   "source": [
    "from cmdstanpy import CmdStanModel\n",
    "import pandas as pd\n",
    "import arviz as az \n",
    "import numpy as np\n",
    "import matplotlib.pyplot as plt\n",
    "import scipy.stats as stats"
   ]
  },
  {
   "attachments": {},
   "cell_type": "markdown",
   "metadata": {},
   "source": [
    "# Modeling prior predictive distribution"
   ]
  },
  {
   "attachments": {},
   "cell_type": "markdown",
   "metadata": {},
   "source": [
    "The prior should have a mean of 0.2. To calculate the values of the parameters α and β of a beta distribution, we can use the following formulas:\n",
    "\n",
    "$\\alpha =\\mu \\cdot \\left(\\frac{\\mu \\cdot (1-\\mu)}{\\sigma^2} - 1\\right)$  \n",
    "$\\beta = (1-\\mu) \\cdot \\left(\\frac{\\mu \\cdot (1-\\mu)}{\\sigma^2} - 1\\right)$\n",
    "\n",
    "Let's use a variance of 0.01, which corresponds to a standard deviation of 0.1.\n",
    "\n",
    "Using the formulas above, we get:\n",
    "\n",
    "$\\alpha \\approx 3$  \n",
    "$\\beta \\approx 12$"
   ]
  },
  {
   "cell_type": "code",
   "execution_count": 10,
   "metadata": {},
   "outputs": [
    {
     "name": "stdout",
     "output_type": "stream",
     "text": [
      "Overwriting code_1.stan\n"
     ]
    }
   ],
   "source": [
    "%%writefile code_1.stan\n",
    "\n",
    "generated quantities {\n",
    "    int<lower=1> N = 50;\n",
    "    int<lower=0, upper=N> y;\n",
    "    real<lower=0, upper=1> p;\n",
    "    \n",
    "    p = beta_rng(3, 12);\n",
    "    y = binomial_rng(N, p);\n",
    "}"
   ]
  },
  {
   "cell_type": "code",
   "execution_count": 31,
   "metadata": {},
   "outputs": [
    {
     "name": "stderr",
     "output_type": "stream",
     "text": [
      "INFO:cmdstanpy:found newer exe file, not recompiling\n"
     ]
    }
   ],
   "source": [
    "gen_quant = CmdStanModel(stan_file='code_1.stan')"
   ]
  },
  {
   "cell_type": "code",
   "execution_count": 33,
   "metadata": {},
   "outputs": [
    {
     "name": "stderr",
     "output_type": "stream",
     "text": [
      "INFO:cmdstanpy:CmdStan start processing\n",
      "chain 1 |\u001b[34m██████████\u001b[0m| 00:00 Sampling completed"
     ]
    },
    {
     "name": "stdout",
     "output_type": "stream",
     "text": [
      "                                                                                "
     ]
    },
    {
     "name": "stderr",
     "output_type": "stream",
     "text": [
      "\n",
      "INFO:cmdstanpy:CmdStan done processing.\n"
     ]
    },
    {
     "name": "stdout",
     "output_type": "stream",
     "text": [
      "\n"
     ]
    },
    {
     "data": {
      "image/png": "[encoded data removed]",
      "text/plain": [
       "<Figure size 432x288 with 1 Axes>"
      ]
     },
     "metadata": {
      "needs_background": "light"
     },
     "output_type": "display_data"
    }
   ],
   "source": [
    "# Generate 1000 samples\n",
    "samples = gen_quant.sample(fixed_param=True, \n",
    "                           iter_sampling=1000)\n",
    "\n",
    "df = samples.draws_pd()\n",
    "ratio = df['y'] / df['N']\n",
    "\n",
    "plt.hist(ratio)\n",
    "plt.axvline(ratio.mean(), color='r', label=\"Mean\")\n",
    "plt.title(\"Ratio\")\n",
    "plt.legend()\n",
    "plt.show()"
   ]
  },
  {
   "attachments": {},
   "cell_type": "markdown",
   "metadata": {},
   "source": [
    "# Modeling posterior and posterior predictive distribution"
   ]
  },
  {
   "cell_type": "code",
   "execution_count": 26,
   "metadata": {},
   "outputs": [
    {
     "name": "stdout",
     "output_type": "stream",
     "text": [
      "Overwriting code_2.stan\n"
     ]
    }
   ],
   "source": [
    "%%writefile code_2.stan\n",
    "\n",
    "data {\n",
    "    int<lower=1> N;\n",
    "    int<lower=0,upper=N> y;\n",
    "}\n",
    "\n",
    "parameters {\n",
    "    real<lower=0, upper=1> p;\n",
    "}\n",
    "\n",
    "model {\n",
    "    p ~ beta(3, 12);\n",
    "    y ~ binomial(N, p);\n",
    "}\n",
    "\n",
    "generated quantities {\n",
    "    int<lower=0, upper=N> y_pred = binomial_rng(N, p);\n",
    "}"
   ]
  },
  {
   "cell_type": "code",
   "execution_count": 38,
   "metadata": {},
   "outputs": [
    {
     "name": "stderr",
     "output_type": "stream",
     "text": [
      "INFO:cmdstanpy:found newer exe file, not recompiling\n"
     ]
    }
   ],
   "source": [
    "gen_quant = CmdStanModel(stan_file='code_2.stan')"
   ]
  },
  {
   "cell_type": "code",
   "execution_count": 41,
   "metadata": {},
   "outputs": [
    {
     "name": "stderr",
     "output_type": "stream",
     "text": [
      "INFO:cmdstanpy:CmdStan start processing\n",
      "chain 1 |\u001b[33m          \u001b[0m| 00:00 Status\n",
      "\u001b[A\n",
      "\n",
      "chain 1 |\u001b[33m██████████\u001b[0m| 00:00 Sampling completed\n",
      "chain 2 |\u001b[34m██████████\u001b[0m| 00:00 Sampling completed\n",
      "chain 3 |\u001b[34m██████████\u001b[0m| 00:00 Sampling completed\n",
      "chain 4 |\u001b[34m██████████\u001b[0m| 00:00 Sampling completed"
     ]
    },
    {
     "name": "stdout",
     "output_type": "stream",
     "text": [
      "                                                                                                                                                                                                                                                                                                                                "
     ]
    },
    {
     "name": "stderr",
     "output_type": "stream",
     "text": [
      "\n",
      "INFO:cmdstanpy:CmdStan done processing.\n"
     ]
    },
    {
     "name": "stdout",
     "output_type": "stream",
     "text": [
      "\n"
     ]
    },
    {
     "data": {
      "image/png": "[encoded data removed]",
      "text/plain": [
       "<Figure size 432x288 with 1 Axes>"
      ]
     },
     "metadata": {
      "needs_background": "light"
     },
     "output_type": "display_data"
    }
   ],
   "source": [
    "samples = gen_quant.sample(data={'N': 50, 'y': 7})\n",
    "df = samples.draws_pd()\n",
    "ratio = df['y_pred'] / 50\n",
    "\n",
    "plt.hist(ratio)\n",
    "plt.axvline(ratio.mean(), color='r', label=\"Mean\")\n",
    "plt.title(\"Ratio\")\n",
    "plt.legend()\n",
    "plt.show()"
   ]
  },
  {
   "cell_type": "code",
   "execution_count": 45,
   "metadata": {},
   "outputs": [
    {
     "name": "stdout",
     "output_type": "stream",
     "text": [
      "Parameter p: mean=0.153, 94% CI=[0.0741412 0.234724 ]\n",
      "Predicted ratio: mean=0.153, 94% CI=[0.02 0.26]\n"
     ]
    }
   ],
   "source": [
    "# Compute the expected value and 94% density interval of parameter p\n",
    "p_mean = df['p'].mean()\n",
    "p_ci = az.hdi(df['p'].to_numpy(), hdi_prob=0.94)\n",
    "\n",
    "# Compute the 94% density interval of the predicted ratio\n",
    "ratio_ci = az.hdi(ratio.to_numpy(), hdi_prob=0.94)\n",
    "\n",
    "# Print the results\n",
    "print(f\"Parameter p: mean={p_mean:.3f}, 94% CI={p_ci}\")\n",
    "print(f\"Predicted ratio: mean={ratio.mean():.3f}, 94% CI={ratio_ci}\")"
   ]
  },
  {
   "cell_type": "code",
   "execution_count": 46,
   "metadata": {},
   "outputs": [
    {
     "name": "stdout",
     "output_type": "stream",
     "text": [
      "Probability of ratio being lower than average probability from traditional vaccines: 0.72975\n"
     ]
    }
   ],
   "source": [
    "print(f\"Probability of ratio being lower than average probability from traditional vaccines: {np.sum(ratio < 0.2) / len(ratio)}\")"
   ]
  },
  {
   "cell_type": "code",
   "execution_count": null,
   "metadata": {},
   "outputs": [],
   "source": []
  }
 ],
 "metadata": {
  "kernelspec": {
   "display_name": "Python 3",
   "language": "python",
   "name": "python3"
  },
  "language_info": {
   "codemirror_mode": {
    "name": "ipython",
    "version": 3
   },
   "file_extension": ".py",
   "mimetype": "text/x-python",
   "name": "python",
   "nbconvert_exporter": "python",
   "pygments_lexer": "ipython3",
   "version": "3.9.11"
  },
  "orig_nbformat": 4
 },
 "nbformat": 4,
 "nbformat_minor": 2
}
