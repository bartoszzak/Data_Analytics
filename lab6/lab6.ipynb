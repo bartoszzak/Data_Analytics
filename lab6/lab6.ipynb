{
 "cells": [
  {
   "cell_type": "code",
   "execution_count": 2,
   "metadata": {},
   "outputs": [
    {
     "name": "stderr",
     "output_type": "stream",
     "text": [
      "/usr/local/lib/python3.9/site-packages/tqdm/auto.py:22: TqdmWarning: IProgress not found. Please update jupyter and ipywidgets. See https://ipywidgets.readthedocs.io/en/stable/user_install.html\n",
      "  from .autonotebook import tqdm as notebook_tqdm\n"
     ]
    }
   ],
   "source": [
    "from cmdstanpy import CmdStanModel\n",
    "\n",
    "\n",
    "import arviz as az\n",
    "import numpy as np\n",
    "import scipy.stats as stats\n",
    "\n",
    "import matplotlib.pyplot as plt\n",
    "import pandas as pd\n",
    "import seaborn as sns"
   ]
  },
  {
   "attachments": {},
   "cell_type": "markdown",
   "metadata": {},
   "source": [
    "#### Excercise 1 - generate data"
   ]
  },
  {
   "cell_type": "code",
   "execution_count": 3,
   "metadata": {},
   "outputs": [
    {
     "name": "stdout",
     "output_type": "stream",
     "text": [
      "Writing code_1.stan\n"
     ]
    }
   ],
   "source": [
    "%%writefile code_1.stan\n",
    "\n",
    "data {\n",
    "    int<lower=1> N; //number of samples\n",
    "}\n",
    "\n",
    "generated quantities {\n",
    "\n",
    "    real theta = 0.01;\n",
    "    array [N] real y;\n",
    "    for (i in 1:N) {\n",
    "        /* code */\n",
    "        if (bernoulli_rng(theta)) {\n",
    "            y[i] = normal_rng(10,10);\n",
    "        }\n",
    "        else {\n",
    "            y[i] = normal_rng(0,1);\n",
    "        }\n",
    "    }\n",
    "}"
   ]
  },
  {
   "cell_type": "code",
   "execution_count": null,
   "metadata": {},
   "outputs": [],
   "source": [
    "%%writefile code_2.stan\n",
    "\n",
    "data {\n",
    "    int<lower=1> N; //number of samples\n",
    "}\n",
    "\n",
    "generated quantities {\n",
    "    matrix[N, 3] X;\n",
    "\n",
    "    {vector [N] zeros = rep_vector(0,N);\n",
    "    for (j in 1:3) {\n",
    "        X[:,j]=to_vector(normal_rng(zeros,1));\n",
    "        /* code */\n",
    "    }\n",
    "    }\n",
    "\n",
    "    vector [3] beta;\n",
    "    beta = [2, 1, 0.5]';\n",
    "    \n",
    "    array [N] real y;\n",
    "    y = normal_rng (X*beta, 1);\n",
    "}"
   ]
  }
 ],
 "metadata": {
  "kernelspec": {
   "display_name": "Python 3",
   "language": "python",
   "name": "python3"
  },
  "language_info": {
   "codemirror_mode": {
    "name": "ipython",
    "version": 3
   },
   "file_extension": ".py",
   "mimetype": "text/x-python",
   "name": "python",
   "nbconvert_exporter": "python",
   "pygments_lexer": "ipython3",
   "version": "3.9.11"
  },
  "orig_nbformat": 4
 },
 "nbformat": 4,
 "nbformat_minor": 2
}
